{
 "metadata": {
  "language_info": {
   "codemirror_mode": {
    "name": "ipython",
    "version": 3
   },
   "file_extension": ".py",
   "mimetype": "text/x-python",
   "name": "python",
   "nbconvert_exporter": "python",
   "pygments_lexer": "ipython3",
   "version": "3.8.5-final"
  },
  "orig_nbformat": 2,
  "kernelspec": {
   "name": "python3",
   "display_name": "Python 3",
   "language": "python"
  }
 },
 "nbformat": 4,
 "nbformat_minor": 2,
 "cells": [
  {
   "source": [],
   "cell_type": "markdown",
   "metadata": {}
  },
  {
   "source": [
    "# ESC190 Midterm Review\n",
    "Below is an interactive document containing code related to the ESC190: Data Structures and Algorithms course. Everything is implemented using Python."
   ],
   "cell_type": "markdown",
   "metadata": {}
  },
  {
   "source": [
    "## Data Structures\n",
    "### Linked List\n",
    "Unlike C, Python does not have pointers, and it is thus difficult to implement linked lists in the traditional way. However, this is sitll possible using the $\\verb#collections#$ module.\n",
    "\n",
    "It has all the functionalities of a regular Python list, but since it is a linked list, many operations that would've takne $\\mathcal{O}(1)$ time with regular lists, would take $\\mathcal{O}(n)$ time instead."
   ],
   "cell_type": "markdown",
   "metadata": {}
  },
  {
   "cell_type": "code",
   "execution_count": 18,
   "metadata": {},
   "outputs": [
    {
     "output_type": "execute_result",
     "data": {
      "text/plain": [
       "deque(['A', 'B', 'C', 'D'])"
      ]
     },
     "metadata": {},
     "execution_count": 18
    }
   ],
   "source": [
    "from collections import deque\n",
    "linked_list = deque() # Creates an empty linked list\n",
    "linked_list.append('A')\n",
    "linked_list.append('B')\n",
    "linked_list.append('C')\n",
    "linked_list.append('D')\n",
    "linked_list"
   ]
  },
  {
   "cell_type": "code",
   "execution_count": 19,
   "metadata": {},
   "outputs": [
    {
     "output_type": "execute_result",
     "data": {
      "text/plain": [
       "deque(['A', 'B', 'D'])"
      ]
     },
     "metadata": {},
     "execution_count": 19
    }
   ],
   "source": [
    "linked_list.remove('C')\n",
    "linked_list\n"
   ]
  },
  {
   "cell_type": "code",
   "execution_count": 20,
   "metadata": {},
   "outputs": [
    {
     "output_type": "execute_result",
     "data": {
      "text/plain": [
       "'D'"
      ]
     },
     "metadata": {},
     "execution_count": 20
    }
   ],
   "source": [
    "linked_list.pop()"
   ]
  },
  {
   "cell_type": "code",
   "execution_count": null,
   "metadata": {},
   "outputs": [],
   "source": []
  }
 ]
}